{
 "cells": [
  {
   "cell_type": "markdown",
   "metadata": {
    "index": 0
   },
   "source": [
    "# Object Oriented Programming - Practice\n",
    "> Writing a Standard Scaler from Scratch\n",
    "\n",
    "In this notebook, we walkthrough the process of coding sklearn's StandardScaler class from scratch."
   ]
  },
  {
   "cell_type": "code",
   "execution_count": 1,
   "metadata": {
    "index": 1
   },
   "outputs": [
    {
     "data": {
      "text/html": [
       "<div>\n",
       "<style scoped>\n",
       "    .dataframe tbody tr th:only-of-type {\n",
       "        vertical-align: middle;\n",
       "    }\n",
       "\n",
       "    .dataframe tbody tr th {\n",
       "        vertical-align: top;\n",
       "    }\n",
       "\n",
       "    .dataframe thead th {\n",
       "        text-align: right;\n",
       "    }\n",
       "</style>\n",
       "<table border=\"1\" class=\"dataframe\">\n",
       "  <thead>\n",
       "    <tr style=\"text-align: right;\">\n",
       "      <th></th>\n",
       "      <th>age</th>\n",
       "      <th>sex</th>\n",
       "      <th>bmi</th>\n",
       "      <th>bp</th>\n",
       "      <th>s1</th>\n",
       "      <th>s2</th>\n",
       "      <th>s3</th>\n",
       "      <th>s4</th>\n",
       "      <th>s5</th>\n",
       "      <th>s6</th>\n",
       "      <th>target</th>\n",
       "    </tr>\n",
       "  </thead>\n",
       "  <tbody>\n",
       "    <tr>\n",
       "      <th>0</th>\n",
       "      <td>0.038076</td>\n",
       "      <td>0.050680</td>\n",
       "      <td>0.061696</td>\n",
       "      <td>0.021872</td>\n",
       "      <td>-0.044223</td>\n",
       "      <td>-0.034821</td>\n",
       "      <td>-0.043401</td>\n",
       "      <td>-0.002592</td>\n",
       "      <td>0.019908</td>\n",
       "      <td>-0.017646</td>\n",
       "      <td>151.0</td>\n",
       "    </tr>\n",
       "    <tr>\n",
       "      <th>1</th>\n",
       "      <td>-0.001882</td>\n",
       "      <td>-0.044642</td>\n",
       "      <td>-0.051474</td>\n",
       "      <td>-0.026328</td>\n",
       "      <td>-0.008449</td>\n",
       "      <td>-0.019163</td>\n",
       "      <td>0.074412</td>\n",
       "      <td>-0.039493</td>\n",
       "      <td>-0.068330</td>\n",
       "      <td>-0.092204</td>\n",
       "      <td>75.0</td>\n",
       "    </tr>\n",
       "  </tbody>\n",
       "</table>\n",
       "</div>"
      ],
      "text/plain": [
       "        age       sex       bmi        bp        s1        s2        s3  \\\n",
       "0  0.038076  0.050680  0.061696  0.021872 -0.044223 -0.034821 -0.043401   \n",
       "1 -0.001882 -0.044642 -0.051474 -0.026328 -0.008449 -0.019163  0.074412   \n",
       "\n",
       "         s4        s5        s6  target  \n",
       "0 -0.002592  0.019908 -0.017646   151.0  \n",
       "1 -0.039493 -0.068330 -0.092204    75.0  "
      ]
     },
     "execution_count": 1,
     "metadata": {},
     "output_type": "execute_result"
    }
   ],
   "source": [
    "# Run this cell unchanged\n",
    "# Import assignment packages\n",
    "import pandas as pd\n",
    "import numpy as np\n",
    "from sklearn.datasets import load_diabetes\n",
    "from sklearn.model_selection import train_test_split\n",
    "\n",
    "# Load data\n",
    "data = load_diabetes()\n",
    "df = pd.DataFrame(data['data'], columns = data['feature_names'])\n",
    "df['target'] = data['target']\n",
    "\n",
    "# Output preview of data\n",
    "df.head(2)"
   ]
  },
  {
   "cell_type": "markdown",
   "metadata": {
    "index": 3
   },
   "source": [
    "**Let's set up a train test split for our dataset**"
   ]
  },
  {
   "cell_type": "code",
   "execution_count": 2,
   "metadata": {
    "index": 4
   },
   "outputs": [],
   "source": [
    "# Run this cell unchanged\n",
    "X = df.drop('target', axis = 1)\n",
    "y = df.target\n",
    "X_train, X_test, y_train, y_test = train_test_split(X, y, random_state=2021)"
   ]
  },
  {
   "cell_type": "markdown",
   "metadata": {
    "index": 6
   },
   "source": [
    "**The process we will move through in this notebook will be the following:**\n",
    "1. Write `fit` and `transform` functions ***outside*** of a class. \n",
    "    * We want to get the code working before we throw it into a class.\n",
    "    \n",
    "2. Create a `StandardScaler` class with `fit` and `transform` methods\n",
    "    * We will need to add the `self` variable during this step. \n",
    "    \n",
    "3. Compare our results with Sklearn's"
   ]
  },
  {
   "cell_type": "markdown",
   "metadata": {
    "index": 7
   },
   "source": [
    "### fit"
   ]
  },
  {
   "cell_type": "markdown",
   "metadata": {
    "index": 8
   },
   "source": [
    "In the cell below, we have defined a function called `fit`. \n",
    "\n",
    "**This function should receive 1 argument.**\n",
    "1. `X` - A pandas dataframe or numpy array\n",
    "\n",
    "**This function should execute the following steps:**\n",
    "1. Convert `X` to a numpy array by passing the input into `np.array`.\n",
    "    * To loop over the index of a pandas dataframe, we use `.iloc`, ie `df.iloc[:,0]` will return the first column of a dataframe, but numpy does not have an `.iloc` method. To avoid an error, the easiest solution is to ensure the input is a numpy array.\n",
    "    \n",
    "3. Loop over the columns of the numpy array.\n",
    "4. For each column, calculate the mean and standard deviation\n",
    "5. Store the statistics in the container as a tuple with the following format:\n",
    "```python\n",
    "(mean, standard_deviation)\n",
    "```"
   ]
  },
  {
   "cell_type": "code",
   "execution_count": 7,
   "metadata": {
    "index": 9
   },
   "outputs": [],
   "source": [
    "container = []\n",
    "\n",
    "def fit(X):\n",
    "    # Convert X to a numpy array by passing the input into np.array\n",
    "    x_array = np.array(X)\n",
    "    # Loop over the columns of the numpy array.\n",
    "    for col in range(x_array.shape[1]):\n",
    "        # For each column, calculate the mean and standard deviation\n",
    "        mean = x_array[:, col].mean()\n",
    "        std = x_array[:, col].std()\n",
    "        # Store the statistics in the container\n",
    "        container.append((mean,std))"
   ]
  },
  {
   "cell_type": "markdown",
   "metadata": {
    "index": 11
   },
   "source": [
    "Let's test our function on our X_train"
   ]
  },
  {
   "cell_type": "code",
   "execution_count": 8,
   "metadata": {
    "index": 12
   },
   "outputs": [
    {
     "name": "stdout",
     "output_type": "stream",
     "text": [
      "✅ The fit function added the correct data to the container!\n"
     ]
    }
   ],
   "source": [
    "# Run this cell unchanged\n",
    "\n",
    "from src.public_tests import test_fit\n",
    "# Create container\n",
    "container = []\n",
    "# Run fit function\n",
    "fit(X_train)\n",
    "# Test results\n",
    "test_fit(container)"
   ]
  },
  {
   "cell_type": "markdown",
   "metadata": {
    "index": 14
   },
   "source": [
    "### transform\n",
    "\n",
    "Below we define function called `transform`. \n",
    "\n",
    "**This function should receive 1 argument**\n",
    "1. `X` - Pandas dataframe or numpy array\n",
    "\n",
    "**This function should execute the following steps:**\n",
    "1. Convert X to a numpy array by passing the input into np.array\n",
    "2. Loop over the columns of X\n",
    "3. Access the mean and standard deviation that were created from the `fit` function and stored in the container variable.\n",
    "4. Subtract the mean from the column and divide by the standard deviation.\n",
    "5. Return the transformed version of X"
   ]
  },
  {
   "cell_type": "code",
   "execution_count": 13,
   "metadata": {
    "index": 15
   },
   "outputs": [],
   "source": [
    "def transform(X):\n",
    "    # Convert X to a numpy array by passing the input into np.array\n",
    "    x_array = np.array(X)\n",
    "    # Loop over the columns of X\n",
    "    for col in range(x_array.shape[1]):\n",
    "        # Access the mean and standard deviation that were \n",
    "        # created from the fit function and stored in the container variable.\n",
    "        mean = container[col][0]\n",
    "        std = container[col][1]\n",
    "        # Subtract the mean from the column \n",
    "        # and divide by the standard deviation.\n",
    "        x_array[:, col] = ((x_array[:, col] - mean) / std)\n",
    "    # Return the transformed version of X\n",
    "    return x_array"
   ]
  },
  {
   "cell_type": "markdown",
   "metadata": {
    "index": 17
   },
   "source": [
    "Let's test our `transform` function on the training data!"
   ]
  },
  {
   "cell_type": "code",
   "execution_count": 14,
   "metadata": {
    "index": 18
   },
   "outputs": [
    {
     "name": "stdout",
     "output_type": "stream",
     "text": [
      "✅ The transform function returned the correct data!\n"
     ]
    }
   ],
   "source": [
    "from src.public_tests import test_transform\n",
    "\n",
    "container = []\n",
    "fit(X_train)\n",
    "X_train_scaled = transform(X_train)\n",
    "test_transform(X_train_scaled[:5])"
   ]
  },
  {
   "cell_type": "markdown",
   "metadata": {
    "index": 20
   },
   "source": [
    "## Move our code into a `StandardScaler` class!\n",
    "\n",
    "**Please complete the StandardScaler class**"
   ]
  },
  {
   "cell_type": "code",
   "execution_count": 16,
   "metadata": {
    "index": 21
   },
   "outputs": [],
   "source": [
    "class StandardScaler:\n",
    "    \n",
    "    def fit(self, X):\n",
    "        self.data = []\n",
    "        x_array = np.array(X)\n",
    "        for col in range(x_array.shape[1]):\n",
    "            mean = x_array[:, col].mean()\n",
    "            std = x_array[:, col].std()\n",
    "            self.data.append((mean,std))\n",
    "            \n",
    "    def transform(self, X):\n",
    "        x_array = np.array(X)\n",
    "        for col in range(x_array.shape[1]):\n",
    "            mean = container[col][0]\n",
    "            std = container[col][1]\n",
    "            x_array[:, col] = ((x_array[:, col] - mean) / std)\n",
    "        return x_array"
   ]
  },
  {
   "cell_type": "markdown",
   "metadata": {
    "index": 23
   },
   "source": [
    "Now let's compare our results with Sklearn's scaler!"
   ]
  },
  {
   "cell_type": "code",
   "execution_count": 17,
   "metadata": {
    "index": 24
   },
   "outputs": [],
   "source": [
    "from sklearn.preprocessing import StandardScaler as SklearnScaler"
   ]
  },
  {
   "cell_type": "code",
   "execution_count": 18,
   "metadata": {
    "index": 26
   },
   "outputs": [
    {
     "data": {
      "text/plain": [
       "StandardScaler()"
      ]
     },
     "execution_count": 18,
     "metadata": {},
     "output_type": "execute_result"
    }
   ],
   "source": [
    "# Create an instance of our scaler\n",
    "our_scaler = StandardScaler()\n",
    "our_scaler.fit(X_train)\n",
    "\n",
    "# Create an instance of sklearn's scaler\n",
    "sk_scaler = SklearnScaler()\n",
    "sk_scaler.fit(X_train)"
   ]
  },
  {
   "cell_type": "code",
   "execution_count": 19,
   "metadata": {
    "index": 28
   },
   "outputs": [],
   "source": [
    "# Scaler train with our scaler\n",
    "our_scaled_train = our_scaler.transform(X_train)\n",
    "sk_scaled_train = sk_scaler.transform(X_train)\n",
    "\n",
    "# Scaler test with our scaler\n",
    "our_scaled_test = our_scaler.transform(X_test)\n",
    "sk_scaled_test = sk_scaler.transform(X_test)"
   ]
  },
  {
   "cell_type": "code",
   "execution_count": 20,
   "metadata": {
    "index": 30
   },
   "outputs": [
    {
     "data": {
      "text/plain": [
       "True"
      ]
     },
     "execution_count": 20,
     "metadata": {},
     "output_type": "execute_result"
    }
   ],
   "source": [
    "# Check if our scaled train is the same as sklearn's\n",
    "np.all(our_scaled_train == sk_scaled_train)"
   ]
  },
  {
   "cell_type": "code",
   "execution_count": 21,
   "metadata": {
    "index": 32
   },
   "outputs": [
    {
     "data": {
      "text/plain": [
       "True"
      ]
     },
     "execution_count": 21,
     "metadata": {},
     "output_type": "execute_result"
    }
   ],
   "source": [
    "# Check if our scaled test is the same as sklearn's\n",
    "np.all(our_scaled_test == sk_scaled_test)"
   ]
  }
 ],
 "metadata": {
  "kernelspec": {
   "display_name": "Python 3",
   "language": "python",
   "name": "python3"
  },
  "language_info": {
   "codemirror_mode": {
    "name": "ipython",
    "version": 3
   },
   "file_extension": ".py",
   "mimetype": "text/x-python",
   "name": "python",
   "nbconvert_exporter": "python",
   "pygments_lexer": "ipython3",
   "version": "3.8.5"
  }
 },
 "nbformat": 4,
 "nbformat_minor": 4
}
